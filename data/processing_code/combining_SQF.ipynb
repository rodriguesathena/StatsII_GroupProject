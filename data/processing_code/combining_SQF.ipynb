{
 "cells": [
  {
   "cell_type": "code",
   "execution_count": 1,
   "metadata": {},
   "outputs": [],
   "source": [
    "#libraries\n",
    "import geopandas as gpd\n",
    "import pandas as pd\n",
    "import pyproj\n",
    "from shapely.geometry import Point"
   ]
  },
  {
   "cell_type": "code",
   "execution_count": 7,
   "metadata": {},
   "outputs": [],
   "source": [
    "stop_2017 = pd.read_csv(\"C:/Users/athen/Documents/GitHub/StatsII_GroupProject/source_data/stop_and_frisk/sqf-2017.csv\", low_memory=False)\n",
    "stop_2018 = pd.read_csv(\"C:/Users/athen/Documents/GitHub/StatsII_GroupProject/source_data/stop_and_frisk/sqf-2018.csv\", low_memory=False)\n",
    "stop_2019 = pd.read_csv(\"C:/Users/athen/Documents/GitHub/StatsII_GroupProject/source_data/stop_and_frisk/sqf-2019.csv\", low_memory=False)\n",
    "stop_2020 = pd.read_csv(\"C:/Users/athen/Documents/GitHub/StatsII_GroupProject/source_data/stop_and_frisk/sqf-2020.csv\", low_memory=False)\n",
    "stop_2021 = pd.read_csv(\"C:/Users/athen/Documents/GitHub/StatsII_GroupProject/source_data/stop_and_frisk/sqf-2021.csv\", low_memory=False)\n",
    "stop_2022 = pd.read_csv(\"C:/Users/athen/Documents/GitHub/StatsII_GroupProject/source_data/stop_and_frisk/sqf-2022.csv\", low_memory=False)\n",
    "stop_2023 = pd.read_csv(\"C:/Users/athen/Documents/GitHub/StatsII_GroupProject/source_data/stop_and_frisk/sqf-2023.csv\", low_memory=False)\n",
    "stop_2024 = pd.read_csv(\"C:/Users/athen/Documents/GitHub/StatsII_GroupProject/source_data/stop_and_frisk/sqf-2024.csv\", low_memory=False)"
   ]
  },
  {
   "cell_type": "code",
   "execution_count": 9,
   "metadata": {},
   "outputs": [
    {
     "name": "stdout",
     "output_type": "stream",
     "text": [
      "   STOP_FRISK_ID STOP_FRISK_DATE STOP_FRISK_TIME   YEAR2    MONTH2       DAY2  \\\n",
      "0   2.017001e+12      2017-01-16      2:26:00 PM  2017.0   January     Monday   \n",
      "1   2.017001e+12      2017-01-16      2:26:00 PM  2017.0   January     Monday   \n",
      "2   2.017001e+12      2017-02-08     11:10:00 AM  2017.0  February  Wednesday   \n",
      "3   2.017001e+12      2017-02-20     11:35:00 AM  2017.0  February     Monday   \n",
      "4   2.017001e+12      2017-02-21      1:20:00 PM  2017.0  February    Tuesday   \n",
      "\n",
      "        STOP_WAS_INITIATED RECORD_STATUS_CODE ISSUING_OFFICER_RANK  \\\n",
      "0  Based on Self Initiated                APP                  SGT   \n",
      "1  Based on Self Initiated                APP                  SGT   \n",
      "2    Based on C/W on Scene                APP                  POM   \n",
      "3  Based on Self Initiated                APP                  POM   \n",
      "4       Based on Radio Run                APP                  POM   \n",
      "\n",
      "   ISSUING_OFFICER_COMMAND_CODE  ... STOP_LOCATION_X STOP_LOCATION_Y  \\\n",
      "0                           574  ...       982381.00       201750.00   \n",
      "1                           574  ...       982381.00       201750.00   \n",
      "2                           863  ...       981005.00       197131.00   \n",
      "3                             1  ...       984031.00       202796.00   \n",
      "4                             1  ...       983894.00       203523.00   \n",
      "\n",
      "  STOP_LOCATION_ZIP_CODE STOP_LOCATION_PATROL_BORO_NAME  \\\n",
      "0                 (null)                           PBMS   \n",
      "1                 (null)                           PBMS   \n",
      "2                 (null)                           PBMS   \n",
      "3                 (null)                           PBMS   \n",
      "4                 (null)                           PBMS   \n",
      "\n",
      "  STOP_LOCATION_BORO_NAME Stop Frisk Time  STOP_ID_ANONY ASK_FOR_CONSENT_FLG  \\\n",
      "0               MANHATTAN             NaN            NaN                 NaN   \n",
      "1               MANHATTAN             NaN            NaN                 NaN   \n",
      "2               MANHATTAN             NaN            NaN                 NaN   \n",
      "3               MANHATTAN             NaN            NaN                 NaN   \n",
      "4               MANHATTAN             NaN            NaN                 NaN   \n",
      "\n",
      "   CONSENT_GIVEN_FLG STOP_ID  \n",
      "0                NaN     NaN  \n",
      "1                NaN     NaN  \n",
      "2                NaN     NaN  \n",
      "3                NaN     NaN  \n",
      "4                NaN     NaN  \n",
      "\n",
      "[5 rows x 88 columns]\n"
     ]
    }
   ],
   "source": [
    "allyrs = pd.concat([\n",
    "    #stop_2016, \n",
    "    stop_2017, stop_2018, stop_2019, stop_2020,\n",
    "    stop_2021, stop_2022, stop_2023, stop_2024],\n",
    "                         ignore_index=True)\n",
    "print(allyrs.head())"
   ]
  },
  {
   "cell_type": "code",
   "execution_count": 10,
   "metadata": {},
   "outputs": [
    {
     "name": "stdout",
     "output_type": "stream",
     "text": [
      "STOP_LOCATION_X    0\n",
      "STOP_LOCATION_Y    0\n",
      "dtype: int64\n",
      "STOP_LOCATION_X    0\n",
      "STOP_LOCATION_Y    0\n",
      "dtype: int64\n"
     ]
    }
   ],
   "source": [
    "print(allyrs[['STOP_LOCATION_X', 'STOP_LOCATION_Y']].isnull().sum())\n",
    "allyrs['STOP_LOCATION_X'] = pd.to_numeric(allyrs['STOP_LOCATION_X'], errors='coerce')\n",
    "allyrs['STOP_LOCATION_Y'] = pd.to_numeric(allyrs['STOP_LOCATION_Y'], errors='coerce')\n",
    "allyrs = allyrs.dropna(subset=['STOP_LOCATION_X', 'STOP_LOCATION_Y']) #dropping those missing X and Y\n",
    "print(allyrs[['STOP_LOCATION_X', 'STOP_LOCATION_Y']].isnull().sum())\n",
    "\n"
   ]
  },
  {
   "cell_type": "code",
   "execution_count": 12,
   "metadata": {},
   "outputs": [],
   "source": [
    "allyrs.to_csv(r\"C:\\Users\\athen\\Documents\\GitHub\\StatsII_GroupProject\\data\\combined_SQF.csv\", index=False)"
   ]
  }
 ],
 "metadata": {
  "kernelspec": {
   "display_name": "new_env",
   "language": "python",
   "name": "python3"
  },
  "language_info": {
   "codemirror_mode": {
    "name": "ipython",
    "version": 3
   },
   "file_extension": ".py",
   "mimetype": "text/x-python",
   "name": "python",
   "nbconvert_exporter": "python",
   "pygments_lexer": "ipython3",
   "version": "3.9.21"
  }
 },
 "nbformat": 4,
 "nbformat_minor": 2
}
